{
 "cells": [
  {
   "cell_type": "markdown",
   "metadata": {},
   "source": [
    "# 正则表达式：re"
   ]
  },
  {
   "cell_type": "markdown",
   "metadata": {},
   "source": [
    "## 知识点\n",
    "- 菜鸟教程：https://www.runoob.com/python/python-reg-expressions.html\n",
    "\n",
    "- re（python自带）\n",
    "    - re 模块使 Python 语言拥有全部的正则表达式功能。\n",
    "        - import re        \n",
    "        \n",
    "- re.match\n",
    "    - re.match 尝试从字符串的起始位置匹配一个模式，如果不是起始位置匹配成功的话，match()就返回none。\n",
    "        - re.match格式：\n",
    "            re.match(pattern, string, flags=0)           # 如果匹配失败就返回None\n",
    "            pattern\t匹配的正则表达式\n",
    "            string\t要匹配的字符串。\n",
    "            flags\t标志位，用于控制正则表达式的匹配方式，如：是否区分大小写，多行匹配等等。参见：正则表达式修饰符 - 可选标志\n",
    "\n",
    "        - r解决转义：\n",
    "            re.match(r'pattern',string,flags=0)\n",
    "- re.search    \n",
    "    - re.search 扫描整个字符串并返回第一个成功的匹配。\n",
    "        - 建议和re.match比较学习            \n",
    "- complile\n",
    "    - 可以编译正则表达式，生成一个正则表达式（ Pattern ）对象，供 match() 和 search() 这两个函数使用。\n",
    "    - 格式:re.compile(pattern[, flags])\n",
    "    - 案例：3\n",
    "    \n",
    "    \n",
    "- re.split：切分字符串\n",
    "    - 格式: re.split(pattern,string[,maxsplit=0,flags=0])\n",
    "        pattern\n",
    "        string\n",
    "        maxsplit:分隔次数，默认为0，不限制次数\n",
    "    - 案例：4\n",
    "    \n",
    "- group 分组\n",
    "    - group(num):  \n",
    "      永远是原始字符串，group(1)、group(2)……表示第1、2、……个子串，也可以一次输入多个组号，在这种情况下它将返回一个包含那些组所对应值的元组。\n",
    "    - group(num=0):\t匹配的整个表达式的字符串，group() \n",
    "    - groups():\t返回一个包含所有小组字符串的元组，从 1 到 所含的小组号。\n",
    "    \n",
    "\n",
    "\n",
    "- re.sub:检索和替换    \n",
    "    - 格式：re.sub(pattern,repl,string,count=0,flags=0)\n",
    "        pattern\n",
    "        repl:替换的字符串，可作为一个函数\n",
    "        string：\n",
    "        count:模式匹配后替换的最大次数，默认为0表示替换所有的匹配\n",
    "        flags：\n",
    "    - 案例：6\n",
    "\n",
    "- findall:\n",
    "\n",
    "    - 在字符串中找到正则表达式所匹配的所有子串，并返回一个列表，如果没有找到匹配的，则返回空列表。\n",
    "    - 注意： match 和 search 是匹配一次 findall 匹配所有。\n",
    "    - 格式：findall(string[,pos[,endpos]])\n",
    "        string:\n",
    "        pos:可选参数，指定字符串的起始位置，默认为0\n",
    "        endpos:可选参数，指定字符串的结束位置，默认为字符串的长度\n",
    "        \n",
    "    - 案例：7\n",
    "    \n",
    "- re.finditer:\n",
    "    -  和 findall 类似，在字符串中找到正则表达式所匹配的所有子串，并把它们作为一个迭代器返回。\n",
    "    - 格式：re.finditer(pattern, string, flags=0)\n",
    "    - 案例：8\n",
    "    \n",
    "\n"
   ]
  },
  {
   "cell_type": "code",
   "execution_count": 1,
   "metadata": {},
   "outputs": [
    {
     "data": {
      "text/plain": [
       "['runoob', 'runoob', 'runoob', '']"
      ]
     },
     "execution_count": 1,
     "metadata": {},
     "output_type": "execute_result"
    }
   ],
   "source": [
    "#案例4\n",
    "#re.split\n",
    "import re\n",
    "re.split('\\W+', 'runoob, runoob, runoob.')   #  \\W可以匹配非字母数字及下划线"
   ]
  },
  {
   "cell_type": "code",
   "execution_count": 2,
   "metadata": {},
   "outputs": [
    {
     "data": {
      "text/plain": [
       "['2123', '4r', '1', 'c3', '4', '1cv423ryhwt']"
      ]
     },
     "execution_count": 2,
     "metadata": {},
     "output_type": "execute_result"
    }
   ],
   "source": [
    "#案例4-1\n",
    "re.split('\\s+','2123 4r    1 c3 4 1cv423ryhwt')"
   ]
  },
  {
   "cell_type": "code",
   "execution_count": 32,
   "metadata": {},
   "outputs": [
    {
     "name": "stdout",
     "output_type": "stream",
     "text": [
      "None\n"
     ]
    }
   ],
   "source": [
    "#案例3：re.complile\n",
    "import re\n",
    "pattern = re.compile(r'\\d+')                    # 用于匹配至少一个数字\n",
    "m = pattern.match('one12twothree34four')        # 查找头部，没有匹配\n",
    "print(m)\n",
    "#因为match是从头部开始匹配，没有匹配到则失败输出'None'\n",
    "#如果用.search匹配就ok\n"
   ]
  },
  {
   "cell_type": "code",
   "execution_count": 39,
   "metadata": {},
   "outputs": [
    {
     "name": "stdout",
     "output_type": "stream",
     "text": [
      "None\n",
      "<re.Match object; span=(3, 5), match='12'>\n"
     ]
    }
   ],
   "source": [
    "m = pattern.match('one12twothree34four', 2) # 从'e'的位置开始匹配，没有匹配\n",
    "print(m)\n",
    "m = pattern.match('one12twothree34four', 3) # 从'1'的位置开始匹配，正好匹配\n",
    "print(m)                                     # 返回一个 Match 对象\n"
   ]
  },
  {
   "cell_type": "code",
   "execution_count": 41,
   "metadata": {},
   "outputs": [
    {
     "name": "stdout",
     "output_type": "stream",
     "text": [
      "('010', '12345')\n",
      "('010', '8086')\n"
     ]
    }
   ],
   "source": [
    "#案例3-1：\n",
    "import re\n",
    "# 编译:\n",
    "re_telephone = re.compile(r'^(\\d{3})-(\\d{3,8})$')\n",
    "# 使用：\n",
    "num1 = re_telephone.match('010-12345').groups()\n",
    "print(num1)\n",
    "num2 = re_telephone.match('010-8086').groups()\n",
    "print(num2)\n"
   ]
  },
  {
   "cell_type": "code",
   "execution_count": null,
   "metadata": {},
   "outputs": [],
   "source": []
  },
  {
   "cell_type": "code",
   "execution_count": 28,
   "metadata": {},
   "outputs": [
    {
     "name": "stdout",
     "output_type": "stream",
     "text": [
      "电话号码是:  2004-959-559 \n",
      "电话号码是:  2004959559\n"
     ]
    }
   ],
   "source": [
    "#案例6：re.sub\n",
    "import re\n",
    "phone = \"2004-959-559 # 这是一个国外电话号码\"\n",
    " \n",
    "# 删除字符串中的 Python注释 \n",
    "num = re.sub(r'#.*$','',phone)\n",
    "print( \"电话号码是: \", num)\n",
    "# 删除非数字(-)的字符串 \n",
    "num = re.sub(r'\\D','',phone)    #\\D是匹配任意非数字\n",
    "print( \"电话号码是: \", num)\n"
   ]
  },
  {
   "cell_type": "code",
   "execution_count": 63,
   "metadata": {},
   "outputs": [
    {
     "name": "stdout",
     "output_type": "stream",
     "text": [
      "['123', '456']\n",
      "['88', '123']\n"
     ]
    }
   ],
   "source": [
    "#案例7：findall\n",
    "# 查找字符串中的所有数字\n",
    "import re\n",
    " \n",
    "pattern = re.compile(r'\\d+')   # 查找数字\n",
    "result1 = pattern.findall('runoob 123 google 456')\n",
    "result2 = pattern.findall('run88oob123google456', 0, 12)#这里还可以给两个arguments\n",
    " \n",
    "print(result1)\n",
    "print(result2)"
   ]
  },
  {
   "cell_type": "code",
   "execution_count": null,
   "metadata": {},
   "outputs": [],
   "source": [
    "#案例8\n",
    "#re.finditer\n",
    "import re\n",
    "it = re.finditer(r\"\\d+\",\"12a32bc43jf3\") \n",
    "for match in it: \n",
    "    print (match.group() )"
   ]
  },
  {
   "cell_type": "markdown",
   "metadata": {},
   "source": [
    " # 正则表达式模式\n",
    " \n",
    "     模式\t描述\n",
    "    ^\t匹配字符串的开头\n",
    "    $\t匹配字符串的末尾。\n",
    "    .\t匹配任意字符，除了换行符，当re.DOTALL标记被指定时，则可以匹配包括换行符的任意字符。\n",
    "    [...]\t用来表示一组字符,单独列出：[amk] 匹配 'a'，'m'或'k'\n",
    "    [^...]\t不在[]中的字符：[^abc] 匹配除了a,b,c之外的字符。\n",
    "    re*\t匹配0个或多个的表达式。\n",
    "    re+\t匹配1个或多个的表达式。\n",
    "    re?\t匹配0个或1个由前面的正则表达式定义的片段，非贪婪方式\n",
    "    re{ n}\t精确匹配 n 个前面表达式。例如， o{2} 不能匹配 \"Bob\" 中的 \"o\"，但是能匹配 \"food\" 中的两个 o。\n",
    "    re{ n,}\t匹配 n 个前面表达式。例如， o{2,} 不能匹配\"Bob\"中的\"o\"，但能匹配 \"foooood\"中的所有 o。\"o{1,}\" 等价于 \"o+\"。\"o{0,}\" 则等价于 \"o*\"。\n",
    "    re{ n, m}\t匹配 n 到 m 次由前面的正则表达式定义的片段，贪婪方式\n",
    "    a| b\t匹配a或b\n",
    "    (re)\t匹配括号内的表达式，也表示一个组\n",
    "    (?imx)\t正则表达式包含三种可选标志：i, m, 或 x 。只影响括号中的区域。\n",
    "    (?-imx)\t正则表达式关闭 i, m, 或 x 可选标志。只影响括号中的区域。\n",
    "    (?: re)\t类似 (...), 但是不表示一个组\n",
    "    (?imx: re)\t在括号中使用i, m, 或 x 可选标志\n",
    "    (?-imx: re)\t在括号中不使用i, m, 或 x 可选标志\n",
    "    (?#...)\t注释.\n",
    "    (?= re)\t前向肯定界定符。如果所含正则表达式，以 ... 表示，在当前位置成功匹配时成功，否则失败。但一旦所含表达式已经尝试，匹配引擎根本没有提高；模式的剩余部分还要尝试界定符的右边。\n",
    "    (?! re)\t前向否定界定符。与肯定界定符相反；当所含表达式不能在字符串当前位置匹配时成功\n",
    "    (?> re)\t匹配的独立模式，省去回溯。\n",
    "    \\w\t匹配字母数字及下划线\n",
    "    \\W\t匹配非字母数字及下划线\n",
    "    \\s\t匹配任意空白字符，等价于 [\\t\\n\\r\\f].\n",
    "    \\S\t匹配任意非空字符\n",
    "    \\d\t匹配任意数字，等价于 [0-9].\n",
    "    \\D\t匹配任意非数字\n",
    "    \\A\t匹配字符串开始\n",
    "    \\Z\t匹配字符串结束，如果是存在换行，只匹配到换行前的结束字符串。\n",
    "    \\z\t匹配字符串结束\n",
    "    \\G\t匹配最后匹配完成的位置。\n",
    "    \\b\t匹配一个单词边界，也就是指单词和空格间的位置。例如， 'er\\b' 可以匹配\"never\" 中的 'er'，但不能匹配 \"verb\" 中的 'er'。\n",
    "    \\B\t匹配非单词边界。'er\\B' 能匹配 \"verb\" 中的 'er'，但不能匹配 \"never\" 中的 'er'。\n",
    "    \\n, \\t, 等.\t匹配一个换行符。匹配一个制表符。等\n",
    "    \\1...\\9\t匹配第n个分组的内容。\n",
    "    \\10\t匹配第n个分组的内容，如果它经匹配。否则指的是八进制字符码的表达式。"
   ]
  },
  {
   "cell_type": "markdown",
   "metadata": {},
   "source": [
    "## 正则表达式筛选符 - 可选标志\n",
    "    \n",
    "    修饰符\t描述\n",
    "    re.I\t使匹配对大小写不敏感\n",
    "    re.L\t做本地化识别（locale-aware）匹配\n",
    "    re.M\t多行匹配，影响 ^ 和 $\n",
    "    re.S\t使 . 匹配包括换行在内的所有字符\n",
    "    re.U\t根据Unicode字符集解析字符。这个标志影响 \\w, \\W, \\b, \\B.\n",
    "    re.X\t该标志通过给予你更灵活的格式以便你将正则表达式写得更易于理解。"
   ]
  },
  {
   "cell_type": "code",
   "execution_count": 22,
   "metadata": {},
   "outputs": [
    {
     "name": "stdout",
     "output_type": "stream",
     "text": [
      "<re.Match object; span=(0, 4), match='www.'>\n"
     ]
    }
   ],
   "source": [
    "print(re.match(r'\\w+.', 'www.runoob.com'))"
   ]
  },
  {
   "cell_type": "markdown",
   "metadata": {},
   "source": [
    "# 实战练习—用正则表达式进行豆瓣图书的爬取"
   ]
  },
  {
   "cell_type": "code",
   "execution_count": 9,
   "metadata": {},
   "outputs": [
    {
     "name": "stdout",
     "output_type": "stream",
     "text": [
      "https://book.douban.com/subject/30434081/?icn=index-latestbook-subject 帝国轶闻 \n",
      "                    [墨西哥]费尔南多·德尔帕索(Fernado del Paso)\n",
      "                   \n",
      "                    2019-6\n",
      "                  \n",
      "https://book.douban.com/subject/33411972/?icn=index-latestbook-subject 故事写作大师班 \n",
      "                    [美]约翰•特鲁比\n",
      "                   \n",
      "                    2019-5\n",
      "                  \n",
      "https://book.douban.com/subject/30419379/?icn=index-latestbook-subject 佩恩先生 \n",
      "                    [智利] 罗贝托·波拉尼奥\n",
      "                   \n",
      "                    2019-5\n",
      "                  \n",
      "https://book.douban.com/subject/33408138/?icn=index-latestbook-subject 言利 \n",
      "                    [美]罗威廉（William T. Rowe）\n",
      "                   \n",
      "                    2019-5\n",
      "                  \n",
      "https://book.douban.com/subject/30441553/?icn=index-latestbook-subject 书店 \n",
      "                    [英]佩内洛普·菲茨杰拉德\n",
      "                   \n",
      "                    2019-5\n",
      "                  \n",
      "https://book.douban.com/subject/30415984/?icn=index-latestbook-subject 崩溃 \n",
      "                    [美] 克里斯·克利尔菲尔德&nbsp;/&nbsp;[美] 安德拉什·蒂尔克斯\n",
      "                   \n",
      "                    2019-4\n",
      "                  \n",
      "https://book.douban.com/subject/30281429/?icn=index-latestbook-subject 黄金案 \n",
      "                    [荷] 高罗佩\n",
      "                   \n",
      "                    2019-4\n",
      "                  \n",
      "https://book.douban.com/subject/27141016/?icn=index-latestbook-subject 黑羊与灰鹰 \n",
      "                    [英] 丽贝卡·韦斯特\n",
      "                   \n",
      "                    2019-4\n",
      "                  \n",
      "https://book.douban.com/subject/33428941/?icn=index-latestbook-subject 泽诺的意识 \n",
      "                    [意]伊塔洛·斯韦沃\n",
      "                   \n",
      "                    2019-5\n",
      "                  \n",
      "https://book.douban.com/subject/32492398/?icn=index-latestbook-subject 穿在身上的历史 \n",
      "                    [法]阿尔贝·奥古斯特·拉西内著\n",
      "                   \n",
      "                    2019-4\n",
      "                  \n",
      "https://book.douban.com/subject/30421975/?icn=index-latestbook-subject 罪与罚 \n",
      "                    （俄）费奥多尔·陀思妥耶夫斯基\n",
      "                   \n",
      "                    2019-6\n",
      "                  \n",
      "https://book.douban.com/subject/33435992/?icn=index-latestbook-subject 思想史研究课堂讲录（增订版） \n",
      "                    葛兆光\n",
      "                   \n",
      "                    2019-5\n",
      "                  \n",
      "https://book.douban.com/subject/30475773/?icn=index-latestbook-subject 那时上帝是只兔子 \n",
      "                    [英] 莎拉·韦曼\n",
      "                   \n",
      "                    2019-5\n",
      "                  \n",
      "https://book.douban.com/subject/33435429/?icn=index-latestbook-subject 游戏图鉴 \n",
      "                    [日] 奥成达 著&nbsp;/&nbsp;[日] 永田晴美 绘\n",
      "                   \n",
      "                    2019-6\n",
      "                  \n",
      "https://book.douban.com/subject/30172071/?icn=index-latestbook-subject 失去名字的女孩 \n",
      "                    [美]玛莎·霍尔·凯莉\n",
      "                   \n",
      "                    2019-5-1\n",
      "                  \n",
      "https://book.douban.com/subject/30362709/?icn=index-latestbook-subject 重返查令十字街84号 \n",
      "                    [美]海莲·汉芙\n",
      "                   \n",
      "                    2019-4\n",
      "                  \n",
      "https://book.douban.com/subject/30391624/?icn=index-latestbook-subject 三折画 \n",
      "                    [法] 克洛德·西蒙\n",
      "                   \n",
      "                    2019-6-6\n",
      "                  \n",
      "https://book.douban.com/subject/33412681/?icn=index-latestbook-subject 欢迎来到你的世界 \n",
      "                    [美]莎拉·威廉姆斯·戈德哈根\n",
      "                   \n",
      "                    2019-4-16\n",
      "                  \n",
      "https://book.douban.com/subject/33400559/?icn=index-latestbook-subject 睡莲花下的奇书 \n",
      "                    [以]斯维特拉娜·多洛舍娃\n",
      "                   \n",
      "                    2019-4\n",
      "                  \n",
      "https://book.douban.com/subject/30481930/?icn=index-latestbook-subject 写给所有人的编程思维 \n",
      "                    (英) 吉姆·克里斯蒂安&nbsp;/&nbsp;于应机&nbsp;/&nbsp;李阳欢\n",
      "                   \n",
      "                    2019-4-1\n",
      "                  \n",
      "https://book.douban.com/subject/33372274/?icn=index-latestbook-subject 三体艺术插画集 \n",
      "                    三体宇宙&nbsp;/&nbsp;未来事务管理局&nbsp;/&nbsp;森雨文化\n",
      "                   \n",
      "                    2019-6\n",
      "                  \n",
      "https://book.douban.com/subject/30432494/?icn=index-latestbook-subject 蓝夜 \n",
      "                    [美]琼·狄迪恩\n",
      "                   \n",
      "                    2019-5\n",
      "                  \n",
      "https://book.douban.com/subject/30321026/?icn=index-latestbook-subject 修道院纪事 \n",
      "                    [葡]若泽·萨拉马戈\n",
      "                   \n",
      "                    2019-5-15\n",
      "                  \n",
      "https://book.douban.com/subject/33424246/?icn=index-latestbook-subject 完整的天下经验 \n",
      "                    韦兵\n",
      "                   \n",
      "                    2019-5-14\n",
      "                  \n",
      "https://book.douban.com/subject/30466204/?icn=index-latestbook-subject 赖床的男人 \n",
      "                    [英]戴维·洛奇\n",
      "                   \n",
      "                    2019-5\n",
      "                  \n",
      "https://book.douban.com/subject/30473225/?icn=index-latestbook-subject 平安朝的生活与文学 \n",
      "                    [日] 池田龟鉴\n",
      "                   \n",
      "                    2019-5\n",
      "                  \n",
      "https://book.douban.com/subject/32567841/?icn=index-latestbook-subject 奇遇办 \n",
      "                    伊谢尔伦的风\n",
      "                   \n",
      "                    2019-5\n",
      "                  \n",
      "https://book.douban.com/subject/33393524/?icn=index-latestbook-subject 青年变革者 \n",
      "                    许知远\n",
      "                   \n",
      "                    2019-5\n",
      "                  \n",
      "https://book.douban.com/subject/33408001/?icn=index-latestbook-subject 少年赫比 \n",
      "                    [美] 赫尔曼·沃克\n",
      "                   \n",
      "                    2019-5\n",
      "                  \n",
      "https://book.douban.com/subject/33396395/?icn=index-latestbook-subject 幕后产品 \n",
      "                    王诗沐\n",
      "                   \n",
      "                    2019-4\n",
      "                  \n",
      "https://book.douban.com/subject/33370472/?icn=index-latestbook-subject 天根 \n",
      "                    [法] 罗曼·加里\n",
      "                   \n",
      "                    2019-4\n",
      "                  \n",
      "https://book.douban.com/subject/33387440/?icn=index-latestbook-subject 我在挪威做木匠 \n",
      "                    [挪] 奥勒·托斯滕森\n",
      "                   \n",
      "                    2019-5\n",
      "                  \n",
      "https://book.douban.com/subject/33423702/?icn=index-latestbook-subject 镀金时代 \n",
      "                    夏清影\n",
      "                   \n",
      "                    2019-5-1\n",
      "                  \n",
      "https://book.douban.com/subject/30420870/?icn=index-latestbook-subject 王权派的革命 \n",
      "                    埃里克·纳尔逊\n",
      "                   \n",
      "                    2019-4-22\n",
      "                  \n",
      "https://book.douban.com/subject/30487144/?icn=index-latestbook-subject 炎昼 \n",
      "                    [日] 京极夏彦\n",
      "                   \n",
      "                    2019-4\n",
      "                  \n",
      "https://book.douban.com/subject/30436197/?icn=index-latestbook-subject 丹麦一年 \n",
      "                    [英] 海伦•拉塞尔\n",
      "                   \n",
      "                    2019-5\n",
      "                  \n",
      "https://book.douban.com/subject/33400116/?icn=index-latestbook-subject 悬崖上的谋杀 \n",
      "                    [英] 阿加莎·克里斯蒂\n",
      "                   \n",
      "                    2019-5\n",
      "                  \n",
      "https://book.douban.com/subject/30284742/?icn=index-latestbook-subject 冲击与回应 \n",
      "                    费正清&nbsp;/&nbsp;邓嗣禹 编著\n",
      "                   \n",
      "                    2019-6\n",
      "                  \n",
      "https://book.douban.com/subject/30353889/?icn=index-latestbook-subject 两姐妹 \n",
      "                    (挪) 奥斯娜·塞厄斯塔\n",
      "                   \n",
      "                    2019-4\n",
      "                  \n",
      "https://book.douban.com/subject/27110806/?icn=index-latestbook-subject 巴黎评论 · 作家访谈4 \n",
      "                    《巴黎评论》编辑部 编\n",
      "                   \n",
      "                    2019-5\n",
      "                  \n"
     ]
    }
   ],
   "source": [
    "import requests\n",
    "import re\n",
    "content = requests.get('https://book.douban.com/').text\n",
    "pattern = re.compile('<li.*?cover.*?href=\"(.*?)\".*?title=\"(.*?)\".*?more-meta.*?author\">(.*?)</span>.*?year\">(.*?)</span>.*?</li>',re.S)\n",
    "results = re.findall(pattern,content)\n",
    "for result in results:\n",
    "    url,name,author,date = result\n",
    "    re.sub('\\s','',author)\n",
    "    re.sub('\\s','',date)\n",
    "    print(url,name,author,date)"
   ]
  },
  {
   "cell_type": "code",
   "execution_count": 8,
   "metadata": {},
   "outputs": [
    {
     "name": "stdout",
     "output_type": "stream",
     "text": [
      "1111\n"
     ]
    }
   ],
   "source": [
    "print('1111')"
   ]
  },
  {
   "cell_type": "code",
   "execution_count": null,
   "metadata": {},
   "outputs": [],
   "source": []
  }
 ],
 "metadata": {
  "kernelspec": {
   "display_name": "Python 3",
   "language": "python",
   "name": "python3"
  },
  "language_info": {
   "codemirror_mode": {
    "name": "ipython",
    "version": 3
   },
   "file_extension": ".py",
   "mimetype": "text/x-python",
   "name": "python",
   "nbconvert_exporter": "python",
   "pygments_lexer": "ipython3",
   "version": "3.7.0"
  }
 },
 "nbformat": 4,
 "nbformat_minor": 2
}
