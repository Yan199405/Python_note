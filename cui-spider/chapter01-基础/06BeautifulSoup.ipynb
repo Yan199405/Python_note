{
 "cells": [
  {
   "cell_type": "markdown",
   "metadata": {},
   "source": [
    "# BeautifulSoup\n",
    "## 灵活又方便的网页解析库，处理高效，支持多种解析器\n",
    "## 利用它不用编写正则表达式即可方便的实现网页信息提取"
   ]
  },
  {
   "cell_type": "markdown",
   "metadata": {},
   "source": [
    "# 解析库\n",
    "![title](img\\picture.png)\n"
   ]
  },
  {
   "cell_type": "markdown",
   "metadata": {},
   "source": [
    "### 基本使用"
   ]
  },
  {
   "cell_type": "code",
   "execution_count": 89,
   "metadata": {},
   "outputs": [
    {
     "name": "stdout",
     "output_type": "stream",
     "text": [
      "<html>\n",
      " <head>\n",
      "  <meta content=\"text/html; charset=utf-8\" http-equiv=\"Content-Type\"/>\n",
      "  <title>\n",
      "   如何在jupyter Notebook中包含图像或图片？ - 纯净的天空\n",
      "  </title>\n",
      "  <meta content=\"如何在jupyter Notebook中包含图像或图片？\" name=\"description\"/>\n",
      "  <meta content=\"ipython-notebook,jupyter,jupyter-notebook,Python,图片\" name=\"keywords\"/>\n",
      "  <meta content=\"width=device-width, initial-scale=1, maximum-scale=1\" name=\"viewport\"/>\n",
      "  <link href=\"https://vimsky.com/wp-content/themes/mytux/images/favicon.ico\" rel=\"shortcut icon\" type=\"image/x-icon\"/>\n",
      "  <link href=\"https://vimsky.com/wp-content/themes/mytux/style.css?v=2.3.2\" media=\"screen\" rel=\"stylesheet\" type=\"text/css\"/>\n",
      "  <link href=\"//pagead2.googlesyndication.com\" rel=\"dns-prefetch\"/>\n",
      "  <meta content=\"q05BwqjZo3tGJ9A4t9XoJdenhyh4uFwb6ct94ki-haI\" name=\"google-site-verification\"/>\n",
      "  <!--[if lt IE 9]>\n",
      "<script src=\"https://vimsky.com/wp-content/themes/mytux/js/respond.min.js?v=1.4.2\"></script>\n",
      "<script src=\"https://vimsky.com/wp-content/themes/mytux/js/html5shiv.js?v=html5shiv.js\"></script>\n",
      "<![endif]-->\n",
      " </head>\n",
      "</html>\n",
      "--------------------------------------------------------------\n",
      "如何在jupyter Notebook中包含图像或图片？ - 纯净的天空\n"
     ]
    }
   ],
   "source": [
    "html = '''\n",
    "<html>\n",
    "<head>\n",
    "<meta http-equiv=\"Content-Type\" content=\"text/html; charset=UTF-8\" />\n",
    "<title>如何在jupyter Notebook中包含图像或图片？ - 纯净的天空</title>\n",
    "<meta name=\"description\" content=\"如何在jupyter Notebook中包含图像或图片？\" />\n",
    "<meta name=\"keywords\" content=\"ipython-notebook,jupyter,jupyter-notebook,Python,图片\" />\n",
    "<meta name=\"viewport\" content=\"width=device-width, initial-scale=1, maximum-scale=1\">\n",
    "<link rel=\"shortcut icon\" href=\"https://vimsky.com/wp-content/themes/mytux/images/favicon.ico\" type=\"image/x-icon\" />\n",
    "<link rel=\"stylesheet\" href=\"https://vimsky.com/wp-content/themes/mytux/style.css?v=2.3.2\" type=\"text/css\" media=\"screen\" />\n",
    "<link rel=\"dns-prefetch\" href=\"//pagead2.googlesyndication.com\" />\n",
    "<meta name=\"google-site-verification\" content=\"q05BwqjZo3tGJ9A4t9XoJdenhyh4uFwb6ct94ki-haI\" />\n",
    "<!--[if lt IE 9]>\n",
    "<script src=\"https://vimsky.com/wp-content/themes/mytux/js/respond.min.js?v=1.4.2\"></script>\n",
    "<script src=\"https://vimsky.com/wp-content/themes/mytux/js/html5shiv.js?v=html5shiv.js\"></script>\n",
    "<![endif]-->\n",
    "'''\n",
    "from bs4 import BeautifulSoup\n",
    "soup = BeautifulSoup(html,'lxml')\n",
    "print(soup.prettify())      #美化格式\n",
    "print('--------------------------------------------------------------')\n",
    "print(soup.title.string)    #打印title"
   ]
  },
  {
   "cell_type": "markdown",
   "metadata": {},
   "source": [
    "### 标签选择器\n",
    "- 选择元素"
   ]
  },
  {
   "cell_type": "code",
   "execution_count": 91,
   "metadata": {},
   "outputs": [
    {
     "name": "stdout",
     "output_type": "stream",
     "text": [
      "<title>如何在jupyter Notebook中包含图像或图片？ - 纯净的天空</title>\n",
      "如何在jupyter Notebook中包含图像或图片？ - 纯净的天空\n",
      "--------------------------------------------------------------\n",
      "<class 'bs4.element.Tag'>\n",
      "--------------------------------------------------------------\n",
      "<head>\n",
      "<meta content=\"text/html; charset=utf-8\" http-equiv=\"Content-Type\"/>\n",
      "<title>如何在jupyter Notebook中包含图像或图片？ - 纯净的天空</title>\n",
      "<meta content=\"如何在jupyter Notebook中包含图像或图片？\" name=\"description\"/>\n",
      "<meta content=\"ipython-notebook,jupyter,jupyter-notebook,Python,图片\" name=\"keywords\"/>\n",
      "<meta content=\"width=device-width, initial-scale=1, maximum-scale=1\" name=\"viewport\"/>\n",
      "<link href=\"https://vimsky.com/wp-content/themes/mytux/images/favicon.ico\" rel=\"shortcut icon\" type=\"image/x-icon\"/>\n",
      "<link href=\"https://vimsky.com/wp-content/themes/mytux/style.css?v=2.3.2\" media=\"screen\" rel=\"stylesheet\" type=\"text/css\"/>\n",
      "</head>\n",
      "--------------------------------------------------------------\n",
      "<p class=\"asdfasdfa\" href=\"//pagead2.googlesyndication.com\" rel=\"dns-prefetch\"></p>\n"
     ]
    }
   ],
   "source": [
    "html = '''\n",
    "<html>\n",
    "<head>\n",
    "<meta http-equiv=\"Content-Type\" content=\"text/html; charset=UTF-8\" />\n",
    "<title>如何在jupyter Notebook中包含图像或图片？ - 纯净的天空</title>\n",
    "<meta name=\"description\" content=\"如何在jupyter Notebook中包含图像或图片？\" />\n",
    "<meta name=\"keywords\" content=\"ipython-notebook,jupyter,jupyter-notebook,Python,图片\" />\n",
    "<meta name=\"viewport\" content=\"width=device-width, initial-scale=1, maximum-scale=1\">\n",
    "<link rel=\"shortcut icon\" href=\"https://vimsky.com/wp-content/themes/mytux/images/favicon.ico\" type=\"image/x-icon\" />\n",
    "<link rel=\"stylesheet\" href=\"https://vimsky.com/wp-content/themes/mytux/style.css?v=2.3.2\" type=\"text/css\" media=\"screen\" />\n",
    "<p class='asdfasdfa'\n",
    "<link rel=\"dns-prefetch\" href=\"//pagead2.googlesyndication.com\" />\n",
    "<meta name=\"google-site-verification\" content=\"q05BwqjZo3tGJ9A4t9XoJdenhyh4uFwb6ct94ki-haI\" />\n",
    "<!--[if lt IE 9]>\n",
    "<script src=\"https://vimsky.com/wp-content/themes/mytux/js/respond.min.js?v=1.4.2\"></script>\n",
    "<script src=\"https://vimsky.com/wp-content/themes/mytux/js/html5shiv.js?v=html5shiv.js\"></script>\n",
    "<![endif]-->\n",
    "'''\n",
    "from bs4 import BeautifulSoup\n",
    "soup = BeautifulSoup(html,'lxml')\n",
    "print(soup.title)             \n",
    "print(soup.title.string)       #不带标签\n",
    "print('--------------------------------------------------------------')\n",
    "print(type(soup.title))  \n",
    "print('--------------------------------------------------------------')\n",
    "print(soup.head)              #按head标签打印\n",
    "print('--------------------------------------------------------------')\n",
    "print(soup.p)"
   ]
  },
  {
   "cell_type": "markdown",
   "metadata": {},
   "source": [
    "###  获取名称\n"
   ]
  },
  {
   "cell_type": "code",
   "execution_count": 17,
   "metadata": {},
   "outputs": [
    {
     "name": "stdout",
     "output_type": "stream",
     "text": [
      "title\n"
     ]
    }
   ],
   "source": [
    "html = '''\n",
    "<html>\n",
    "<head>\n",
    "<meta http-equiv=\"Content-Type\" content=\"text/html; charset=UTF-8\" />\n",
    "<title>如何在jupyter Notebook中包含图像或图片？ - 纯净的天空</title>\n",
    "<meta name=\"description\" content=\"如何在jupyter Notebook中包含图像或图片？\" />\n",
    "<link rel=\"shortcut icon\" href=\"https://vimsky.com/wp-content/themes/mytux/images/favicon.ico\" type=\"image/x-icon\" />\n",
    "<link rel=\"stylesheet\" href=\"https://vimsky.com/wp-content/themes/mytux/style.css?v=2.3.2\" type=\"text/css\" media=\"screen\" />\n",
    "<p class='asdfasdfa'\n",
    "<link rel=\"dns-prefetch\" href=\"//pagead2.googlesyndication.com\" />\n",
    "<meta name=\"google-site-verification\" content=\"q05BwqjZo3tGJ9A4t9XoJdenhyh4uFwb6ct94ki-haI\" />\n",
    "<!--[if lt IE 9]>\n",
    "<script src=\"https://vimsky.com/wp-content/themes/mytux/js/html5shiv.js?v=html5shiv.js\"></script>\n",
    "<![endif]-->\n",
    "'''\n",
    "from bs4 import BeautifulSoup\n",
    "soup = BeautifulSoup(html,'lxml')\n",
    "print(soup.title.name)"
   ]
  },
  {
   "cell_type": "markdown",
   "metadata": {},
   "source": [
    "### 获取属性\n"
   ]
  },
  {
   "cell_type": "code",
   "execution_count": 31,
   "metadata": {},
   "outputs": [
    {
     "name": "stdout",
     "output_type": "stream",
     "text": [
      "['asdfasdfa']\n"
     ]
    }
   ],
   "source": [
    "html = '''\n",
    "<html>\n",
    "<head>\n",
    "<meta http-equiv=\"Content-Type\" content=\"text/html; charset=UTF-8\" />\n",
    "<title>如何在jupyter Notebook中包含图像或图片？ - 纯净的天空</title>\n",
    "<name=\"description\" content=\"如何在jupyter Notebook中包含图像或图片？\" />\n",
    "<link rel=\"shortcut icon\" href=\"https://vimsky.com/wp-content/themes/mytux/images/favicon.ico\" type=\"image/x-icon\" />\n",
    "<link rel=\"stylesheet\" href=\"https://vimsky.com/wp-content/themes/mytux/style.css?v=2.3.2\" type=\"text/css\" media=\"screen\" />\n",
    "<p class='asdfasdfa'\n",
    "<link rel=\"dns-prefetch\" href=\"//pagead2.googlesyndication.com\" />\n",
    "<meta name=\"google-site-verification\" content=\"q05BwqjZo3tGJ9A4t9XoJdenhyh4uFwb6ct94ki-haI\" />\n",
    "<!--[if lt IE 9]>\n",
    "<script src=\"https://vimsky.com/wp-content/themes/mytux/js/html5shiv.js?v=html5shiv.js\"></script>\n",
    "<![endif]-->\n",
    "'''\n",
    "from bs4 import BeautifulSoup\n",
    "soup = BeautifulSoup(html,'lxml')\n",
    "\n",
    "print(soup.p['class'])"
   ]
  },
  {
   "cell_type": "markdown",
   "metadata": {},
   "source": [
    "### 获取内容\n"
   ]
  },
  {
   "cell_type": "code",
   "execution_count": 96,
   "metadata": {},
   "outputs": [
    {
     "name": "stdout",
     "output_type": "stream",
     "text": [
      " haaaaaaaaaa\n"
     ]
    }
   ],
   "source": [
    "html = '''\n",
    "<html>\n",
    "<head>\n",
    "<meta http-equiv=\"Content-Type\" content=\"text/html; charset=UTF-8\" />\n",
    "<title>如何在jupyter Notebook中包含图像或图片？ - 纯净的天空</title>\n",
    "<name=\"description\" content=\"如何在jupyter Notebook中包含图像或图片？\" />\n",
    "<link rel=\"shortcut icon\" href=\"https://vimsky.com/wp-content/themes/mytux/images/favicon.ico\" type=\"image/x-icon\" />\n",
    "<link rel=\"stylesheet\" href=\"https://vimsky.com/wp-content/themes/mytux/style.css?v=2.3.2\" type=\"text/css\" media=\"screen\" />\n",
    "<p class='asdfasdfa' name='asdfa' <b> haaaaaaaaaa</b></p>\n",
    "<link rel=\"dns-prefetch\" href=\"//pagead2.googlesyndication.com\" />\n",
    "<meta name=\"google-site-verification\" content=\"q05BwqjZo3tGJ9A4t9XoJdenhyh4uFwb6ct94ki-haI\" />\n",
    "<!--[if lt IE 9]>\n",
    "<script src=\"https://vimsky.com/wp-content/themes/mytux/js/html5shiv.js?v=html5shiv.js\"></script>\n",
    "<![endif]-->\n",
    "'''\n",
    "from bs4 import BeautifulSoup\n",
    "soup = BeautifulSoup(html,'lxml')\n",
    "print(soup.p.string)"
   ]
  },
  {
   "cell_type": "markdown",
   "metadata": {},
   "source": [
    "### 嵌套选择"
   ]
  },
  {
   "cell_type": "code",
   "execution_count": 44,
   "metadata": {},
   "outputs": [
    {
     "name": "stdout",
     "output_type": "stream",
     "text": [
      "如何在jupyter Notebook中包含图像或图片？ - 纯净的天空\n",
      "<title>如何在jupyter Notebook中包含图像或图片？ - 纯净的天空</title>\n"
     ]
    }
   ],
   "source": [
    "html = '''\n",
    "<html>\n",
    "<head>\n",
    "<meta http-equiv=\"Content-Type\" content=\"text/html; charset=UTF-8\" />\n",
    "<title>如何在jupyter Notebook中包含图像或图片？ - 纯净的天空</title>\n",
    "<name=\"description\" content=\"如何在jupyter Notebook中包含图像或图片？\" />\n",
    "<link rel=\"shortcut icon\" href=\"https://vimsky.com/wp-content/themes/mytux/images/favicon.ico\" type=\"image/x-icon\" />\n",
    "<link rel=\"stylesheet\" href=\"https://vimsky.com/wp-content/themes/mytux/style.css?v=2.3.2\" type=\"text/css\" media=\"screen\" />\n",
    "<p class='asdfasdfa'\n",
    "<link rel=\"dns-prefetch\" href=\"//pagead2.googlesyndication.com\" />\n",
    "<meta name=\"google-site-verification\" content=\"q05BwqjZo3tGJ9A4t9XoJdenhyh4uFwb6ct94ki-haI\" />\n",
    "<!--[if lt IE 9]>\n",
    "<script src=\"https://vimsky.com/wp-content/themes/mytux/js/html5shiv.js?v=html5shiv.js\"></script>\n",
    "<![endif]-->\n",
    "'''\n",
    "from bs4 import BeautifulSoup\n",
    "soup = BeautifulSoup(html,'lxml')\n",
    "print(soup.head.title.string)\n",
    "print(soup.head.title)"
   ]
  },
  {
   "cell_type": "markdown",
   "metadata": {},
   "source": [
    "### 子节点和子孙节点\n",
    "- soup.标签.contents\\children获取子节点\n",
    "- soup.标签.descendants获取子孙节点\n",
    "- soup.标签.parent获取父节点\n",
    "- soup.标签.parents获取祖先节点\n",
    "- soup.标签next_siblings\\previous_siblings获取兄弟节点"
   ]
  },
  {
   "cell_type": "code",
   "execution_count": 59,
   "metadata": {
    "scrolled": true
   },
   "outputs": [
    {
     "name": "stdout",
     "output_type": "stream",
     "text": [
      "['\\n', <div class=\"hp-topbarNav-bd\">\n",
      "<ul class=\"hp-quickNav\">\n",
      "<li class=\"mobileWeb\"><a href=\"javascript:void(0)\" onclick=\"hp_quick_touch()\"><i class=\"ico-mobile\"></i>手机虎扑</a></li>\n",
      "<li class=\"line\">|</li>\n",
      "<li class=\"mobileclientDown\"><a class=\"red\" href=\"https://mobile.hupu.com/?_r=globalNav\" target=\"_blank\">虎扑客户端</a></li>\n",
      "<li class=\"line\">|</li>\n",
      "<li class=\"hp-dropDownMenu topFollowBlog\">\n",
      "<a class=\"hp-set\" href=\"javascript:void(0)\">关注虎扑<s class=\"setArrow\"></s></a>\n",
      "<div class=\"hp-drapDown followLayer\">\n",
      "<a class=\"weibo\" href=\"//weibo.com/liangle4u\" rel=\"nofollow\" target=\"_blank\"><i class=\"hp-ico-weibo\"></i>新浪微博</a>\n",
      "<a class=\"weixin\" href=\"https://voice.hupu.com/other/1581560.html\" target=\"_blank\"><i class=\"hp-ico-weixin\"></i>官方微信</a>\n",
      "<a class=\"instagram\" href=\"https://voice.hupu.com/other/1634334.html\" rel=\"nofollow\" target=\"_blank\"><i class=\"hp-ico-instagram\"></i>Instagram</a>\n",
      "</div>\n",
      "</li>\n",
      "</ul>\n",
      "<div class=\"hp-topLogin-info\"></div>\n",
      "</div>, '\\n']\n",
      "--------------------------------------------------------------\n",
      "<list_iterator object at 0x0000021639762550>\n",
      "--------------------------------------------------------------\n",
      "0 <i class=\"ico-mobile\"></i>\n",
      "1 手机虎扑\n",
      "--------------------------------------------------------------\n"
     ]
    }
   ],
   "source": [
    "html = '''\n",
    "                        <div id=\"hp-topbarNav\">\n",
    "                            <div class=\"hp-topbarNav-bd\">\n",
    "                                <ul class=\"hp-quickNav\">\n",
    "                                    <li class=\"mobileWeb\"><a href=\"javascript:void(0)\" onclick=\"hp_quick_touch()\"><i class=\"ico-mobile\"></i>手机虎扑</a></li>\n",
    "                                    <li class=\"line\">|</li>\n",
    "                                    <li class=\"mobileclientDown\"><a class=\"red\" href=\"https://mobile.hupu.com/?_r=globalNav\" target=\"_blank\">虎扑客户端</a></li>\n",
    "                                    <li class=\"line\">|</li>\n",
    "                                    <li class=\"hp-dropDownMenu topFollowBlog\">\n",
    "                                        <a href=\"javascript:void(0)\" class=\"hp-set\">关注虎扑<s class=\"setArrow\"></s></a>\n",
    "                                        <div class=\"hp-drapDown followLayer\">\n",
    "                                            <a class=\"weibo\" target=\"_blank\" rel=\"nofollow\" href=\"//weibo.com/liangle4u\"><i class=\"hp-ico-weibo\"></i>新浪微博</a>\n",
    "\t\t\t\t\t\t\t\t\t\t\t<a class=\"weixin\" target=\"_blank\" href=\"https://voice.hupu.com/other/1581560.html\"><i class=\"hp-ico-weixin\"></i>官方微信</a>\n",
    "                                            <a class=\"instagram\" target=\"_blank\" rel=\"nofollow\" href=\"https://voice.hupu.com/other/1634334.html\"><i class=\"hp-ico-instagram\"></i>Instagram</a>\n",
    "                                        </div>\n",
    "                                    </li>\n",
    "                                </ul>\n",
    "                                <div class=\"hp-topLogin-info\"></div>\n",
    "                            </div>\n",
    "                        </div>\n",
    "''' \n",
    "from bs4 import BeautifulSoup\n",
    "soup = BeautifulSoup(html,'lxml')\n",
    "print(soup.div.contents)    #contents输出子节点\n",
    "print('--------------------------------------------------------------')\n",
    "print(soup.children)        #children也是打印子节点\n",
    "print('--------------------------------------------------------------')\n",
    "for i,child in enumerate(soup.a.children):\n",
    "    print(i,child)\n",
    "print('--------------------------------------------------------------')  \n"
   ]
  },
  {
   "cell_type": "code",
   "execution_count": 60,
   "metadata": {},
   "outputs": [
    {
     "name": "stdout",
     "output_type": "stream",
     "text": [
      "<generator object Tag.descendants at 0x000002163977AED0>\n",
      "0 <i class=\"ico-mobile\"></i>\n",
      "1 手机虎扑\n"
     ]
    }
   ],
   "source": [
    "print(soup.a.descendants)    #descendants获取子孙节点\n",
    "for s,child in enumerate(soup.a.descendants):\n",
    "    print(s,child)"
   ]
  },
  {
   "cell_type": "markdown",
   "metadata": {},
   "source": [
    "### 标准选择器\n",
    "- find_all(name,attrs,recursive,text,**kwargs)\n",
    "    - 可根据标签名、属性、内容查找文档\n",
    "- find(name,attrs,recursive,text,**kwargs)\n",
    "    - 和find_all用法一样，只不过find_all查找全部，find只查找第一个\n",
    "- find_parents()、find_parent\n",
    "    - 返回所有祖先节点、返回直接父节点\n",
    "- find_next_siblings()、find_next_sibling()\n",
    "    - 返回所有兄弟节点、返回第一个兄弟节点\n",
    "- find_next_all()、find_next\n",
    "    - 返回节点后所有符合条件的节点、返回第一个符合条件的节点\n",
    "- find_all_previous()、find_previous\n",
    "    - 返回符合条件的所有节点，返回第一个符合条件的节点\n",
    "- 使用代码\n",
    "\n",
    "        from bs4 import BeautifulSoup\n",
    "        soup = BeautifulSoup(html,'lxml')\n",
    "        print(soup.find('name/attrs,recursive,text,**kwargs'))\n"
   ]
  },
  {
   "cell_type": "markdown",
   "metadata": {},
   "source": [
    "### CSS选择器\n",
    "- 通过select()直接传入CSS选择器即可完成选择"
   ]
  },
  {
   "cell_type": "code",
   "execution_count": 73,
   "metadata": {},
   "outputs": [
    {
     "name": "stdout",
     "output_type": "stream",
     "text": [
      "[<div class=\"det-imgshow\" onclick=\"windowClose();\">\n",
      "<div class=\"det-img\"><table><tr><td><img alt=\"简约传统节日端午节节日宣传海报\" id=\"imgMainView\" onclick=\"stopPropagation();\" src=\"http://img08.tooopen.com/20190602/tooopen_sy_112054205415967.jpg\"/></td></tr></table></div>\n",
      "<a class=\"img-down iconfont\" href=\"https://www.tooopen.com/download/1965542\" style=\"background-color:#6ca90f;\" target=\"_blank\"></a>\n",
      "<a class=\"img-close iconfont\" href=\"javascript:;\"></a>\n",
      "<div class=\"det-imgshow-bg\"></div></div>]\n",
      "[<span class=\"uncopyright\"></span>]\n",
      "[<input id=\"Detail-MaterialID\" type=\"hidden\" value=\"1965542\"/>]\n",
      "<class 'bs4.element.Tag'>\n"
     ]
    }
   ],
   "source": [
    "html = '''\n",
    "/script>\n",
    "<!--大图显示-->\n",
    "<div class=\"det-imgshow\" onclick=\"windowClose();\">\n",
    "<div class=\"det-img\"><table><tr><td><img src=\"http://img08.tooopen.com/20190602/tooopen_sy_112054205415967.jpg\" alt=\"简约传统节日端午节节日宣传海报\" id=\"imgMainView\" onclick=\"stopPropagation();\"/></td></tr></table></div>\n",
    "<a href=\"https://www.tooopen.com/download/1965542\" target=\"_blank\" class=\"img-down iconfont\" style=\"background-color:#6ca90f;\">&#xe791;</a>\n",
    "<a href=\"javascript:;\" class=\"img-close iconfont\">&#xe653;</a>\n",
    "<div class=\"det-imgshow-bg\" ></div></div>\n",
    "<!--详情页主体内容-->\n",
    "<div class=\"sc-det c-fix\">\n",
    "    <span class=\"uncopyright\"></span>\n",
    "    <input type=\"hidden\" value=\"1965542\" id=\"Detail-MaterialID\" />\n",
    "    <table><tr><th class=\"pic-box\" ><img src=\"http://img08.tooopen.com/20190602/tooopen_sy_112054205415967.jpg\" title=\"简约传统节日端午节节日宣传海报\" alt=\"简约传统节日端午节节日宣传海报\" id=\"imgView\" onclick=\"imgshow()\" style=\"cursor:pointer\"/></th>\n",
    "    <!--详情页右侧内容 -->\n",
    "    <td class=\"con-box\">\n",
    "    <div class=\"det-lcoal\">\n",
    "        <a href=\"https://www.tooopen.com\" class=\"iconfont\">&#xe679;</a>\n",
    "            <em>-</em>\n",
    "            <a href=\"https://www.tooopen.com/psd\">广告设计</a>\n",
    "        <em>-</em>\n",
    "        <a href=\"https://www.tooopen.com/psd/103.aspx\">节日素材</a>\n",
    "        <em>-</em>\n",
    "        <a href=\"https://www.tooopen.com/psd/103_515.aspx\">端午节海报</a>\n",
    "</div>\n",
    "'''\n",
    "from bs4 import BeautifulSoup\n",
    "soup = BeautifulSoup(html,'lxml')\n",
    "print(soup.select('.det-imgshow')) #选择class，则在选择内容前加“.”\n",
    "print(soup.select('span'))    #直接输入标签名\n",
    "print(soup.select('#Detail-MaterialID'))     #id前加“#”\n",
    "print(type(soup.select('span')[0]))   #查看节点类型\n"
   ]
  },
  {
   "cell_type": "markdown",
   "metadata": {},
   "source": [
    "#### 获取属性\n"
   ]
  },
  {
   "cell_type": "code",
   "execution_count": 1,
   "metadata": {},
   "outputs": [
    {
     "name": "stdout",
     "output_type": "stream",
     "text": [
      "['nofollow']\n",
      "-------------------\n",
      "['nofollow']\n",
      "['nofollow2']\n",
      "-------------------\n",
      "['nofollow2']\n",
      "['nofollow3']\n",
      "-------------------\n",
      "['nofollow3']\n"
     ]
    }
   ],
   "source": [
    "html = '''\n",
    "<!--底部-->\n",
    "<div class=\"bot\"><div class=\"wrap c-fix\">\n",
    "<span class=\"r\">\n",
    "<a href=\"/sevice_main.aspx?id=326\" rel=\"nofollow\">关于我们</a>\n",
    "<a href=\"/sevice_main.aspx?id=326\" rel=\"nofollow2\">关于我们</a>\n",
    "<a href=\"/sevice_main.aspx?id=326\" rel=\"nofollow3\">关于我们</a>\n",
    "<script type=\"text/javascript\">\n",
    "'''\n",
    "from bs4 import BeautifulSoup\n",
    "soup = BeautifulSoup(html,'lxml')\n",
    "for a in soup.select('a'):\n",
    "    print(a['rel'])\n",
    "    print('-------------------')\n",
    "    print(a.attrs['rel'])"
   ]
  },
  {
   "cell_type": "markdown",
   "metadata": {},
   "source": [
    "#### 获取内容"
   ]
  },
  {
   "cell_type": "code",
   "execution_count": 88,
   "metadata": {},
   "outputs": [
    {
     "name": "stdout",
     "output_type": "stream",
     "text": [
      "关于我们\n",
      "关于我们2\n",
      "关于我们3\n"
     ]
    }
   ],
   "source": [
    "html = '''\n",
    "<!--底部-->\n",
    "<div class=\"bot\"><div class=\"wrap c-fix\">\n",
    "<span class=\"r\">\n",
    "<a href=\"/sevice_main.aspx?id=326\" rel=\"nofollow\">关于我们</a>\n",
    "<a href=\"/sevice_main.aspx?id=326\" rel=\"nofollow2\">关于我们2</a>\n",
    "<a href=\"/sevice_main.aspx?id=326\" rel=\"nofollow3\">关于我们3</a>\n",
    "<script type=\"text/javascript\">\n",
    "'''\n",
    "from bs4 import BeautifulSoup\n",
    "soup = BeautifulSoup(html,'lxml')\n",
    "for a in soup.select('a'):\n",
    "    print(a.get_text())"
   ]
  },
  {
   "cell_type": "markdown",
   "metadata": {},
   "source": [
    "# 总结\n",
    "- 推荐使用lxml解析库，必要时（代码特别混乱）使用html.parser\n",
    "- 标签选择器功能弱但是速度快\n",
    "- 建议使用find()\\find_all()查询匹配单个或多个结果\n",
    "- 如果对CSS选择器熟悉建议使用select()\n",
    "- 记住常用的获取属性和文本值的方法"
   ]
  },
  {
   "cell_type": "code",
   "execution_count": null,
   "metadata": {},
   "outputs": [],
   "source": []
  },
  {
   "cell_type": "code",
   "execution_count": null,
   "metadata": {},
   "outputs": [],
   "source": []
  },
  {
   "cell_type": "code",
   "execution_count": null,
   "metadata": {},
   "outputs": [],
   "source": []
  },
  {
   "cell_type": "code",
   "execution_count": null,
   "metadata": {},
   "outputs": [],
   "source": []
  }
 ],
 "metadata": {
  "kernelspec": {
   "display_name": "Python 3",
   "language": "python",
   "name": "python3"
  },
  "language_info": {
   "codemirror_mode": {
    "name": "ipython",
    "version": 3
   },
   "file_extension": ".py",
   "mimetype": "text/x-python",
   "name": "python",
   "nbconvert_exporter": "python",
   "pygments_lexer": "ipython3",
   "version": "3.7.0"
  }
 },
 "nbformat": 4,
 "nbformat_minor": 2
}
