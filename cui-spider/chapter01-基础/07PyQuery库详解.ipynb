{
 "cells": [
  {
   "cell_type": "markdown",
   "metadata": {},
   "source": [
    "# PyQuery\n",
    "### 强大又灵活的网页解析库。如果熟悉jQuery，那么学起来就会很容易\n",
    "#### 安装：\n",
    "- conda install pyquery\n",
    "- pip3 install pyquery    \n"
   ]
  },
  {
   "cell_type": "markdown",
   "metadata": {},
   "source": [
    "### 初始化\n",
    "#### 字符串初始化\n"
   ]
  },
  {
   "cell_type": "code",
   "execution_count": 4,
   "metadata": {},
   "outputs": [
    {
     "name": "stdout",
     "output_type": "stream",
     "text": [
      "<li><a href=\"https://www.tooopen.com/info.aspx\" class=\"color2\" target=\"_blank\">素材预览图规范说明</a></li>\n",
      "    <li><a href=\"https://www.tooopen.com/info.aspx\" class=\"color2\" target=\"_blank\">特别提示：请会员尽快完善已上传的素材信息</a></li>\n",
      "    <li><a href=\"https://www.tooopen.com/info.aspx\" class=\"color2\" target=\"_blank\">素材 公社升级在即！感谢社员们的信任陪伴</a></li>\n",
      "\n"
     ]
    }
   ],
   "source": [
    "html = '''\n",
    "<div class=\"scroll-box\">\n",
    "<i class=\"iconfont yellow\">&#xe626;</i>\n",
    "<div class=\"maq\">\n",
    "<ul id=\"scroll-list\">\n",
    "    <li><a href=\"https://www.tooopen.com/info.aspx\" class=\"color2\"target=\"_blank\">素材预览图规范说明</a></li>\n",
    "    <li><a href=\"https://www.tooopen.com/info.aspx\" class=\"color2\"target=\"_blank\">特别提示：请会员尽快完善已上传的素材信息</a></li>\n",
    "    <li><a href=\"https://www.tooopen.com/info.aspx\" class=\"color2\"target=\"_blank\">素材 公社升级在即！感谢社员们的信任陪伴</a></li>\n",
    "</ul>\n",
    "</div></div>\n",
    "'''\n",
    "from pyquery import PyQuery as pq\n",
    "doc = pq(html)\n",
    "print(doc('li'))"
   ]
  },
  {
   "cell_type": "markdown",
   "metadata": {},
   "source": [
    "#### URL初始化\n"
   ]
  },
  {
   "cell_type": "code",
   "execution_count": 6,
   "metadata": {},
   "outputs": [
    {
     "name": "stdout",
     "output_type": "stream",
     "text": [
      "<head><meta http-equiv=\"content-type\" content=\"text/html;charset=utf-8\"/><meta http-equiv=\"X-UA-Compatible\" content=\"IE=Edge\"/><meta content=\"always\" name=\"referrer\"/><link rel=\"stylesheet\" type=\"text/css\" href=\"http://s1.bdstatic.com/r/www/cache/bdorz/baidu.min.css\"/><title>ç¾åº¦ä¸ä¸ï¼ä½ å°±ç¥é</title></head> \n"
     ]
    }
   ],
   "source": [
    "doc = pq(url='http://www.baidu.com')\n",
    "print(doc('head'))"
   ]
  },
  {
   "cell_type": "markdown",
   "metadata": {},
   "source": [
    "#### 文件初始化"
   ]
  },
  {
   "cell_type": "code",
   "execution_count": null,
   "metadata": {},
   "outputs": [],
   "source": [
    "doc = pq(filename='demo.html',encode='utf-8')\n",
    "print(doc('li'))"
   ]
  },
  {
   "cell_type": "markdown",
   "metadata": {},
   "source": [
    "### 基本CSS选择器"
   ]
  },
  {
   "cell_type": "code",
   "execution_count": 22,
   "metadata": {},
   "outputs": [
    {
     "name": "stdout",
     "output_type": "stream",
     "text": [
      "<li class=\"iconfont yellow\"></li>\n",
      "        <li><a href=\"https://www.tooopen.com/info.aspx\" class=\"color2\" target=\"_blank\">素材预览图规范说明</a></li>\n",
      "        <li><a href=\"https://www.tooopen.com/info.aspx\" class=\"color2\" target=\"_blank\">特别提示：请会员尽快完善已上传的素材信息</a></li>\n",
      "        <li><a href=\"https://www.tooopen.com/info.aspx\" class=\"color2\" target=\"_blank\">素材 公社升级在即！感谢社员们的信任陪伴</a></li>\n",
      "    \n"
     ]
    }
   ],
   "source": [
    "html = '''\n",
    "<div class=\"scroll-box\">\n",
    "<i class=\"iconfont yellow\">&#xe626;</i>\n",
    "<div class=\"maq\">\n",
    "<div id=\"scroll-list\">\n",
    "    <ul class=\"list\">\n",
    "        <li class=\"iconfont yellow\">&#xe626;</li>\n",
    "        <li><a href=\"https://www.tooopen.com/info.aspx\" class=\"color2\"target=\"_blank\">素材预览图规范说明</a></li>\n",
    "        <li><a href=\"https://www.tooopen.com/info.aspx\" class=\"color2\"target=\"_blank\">特别提示：请会员尽快完善已上传的素材信息</a></li>\n",
    "        <li><a href=\"https://www.tooopen.com/info.aspx\" class=\"color2\"target=\"_blank\">素材 公社升级在即！感谢社员们的信任陪伴</a></li>\n",
    "    </ul>\n",
    "</div></div>\n",
    "'''\n",
    "from pyquery import PyQuery as pq\n",
    "doc = pq(html)\n",
    "print(doc('#scroll-list .list li'))   #查找id为scroll-list class为list 标签为li"
   ]
  },
  {
   "cell_type": "markdown",
   "metadata": {},
   "source": [
    "### 查找元素\n",
    "#### 子元素\n",
    "- .find方法：\n",
    "- .children"
   ]
  },
  {
   "cell_type": "code",
   "execution_count": 33,
   "metadata": {},
   "outputs": [
    {
     "name": "stdout",
     "output_type": "stream",
     "text": [
      "<class 'pyquery.pyquery.PyQuery'>\n",
      "<ul class=\"list\">\n",
      "        <li class=\"iconfont yellow\"></li>\n",
      "        <li><a href=\"https://www.tooopen.com/info.aspx\" class=\"color2\" target=\"_blank\">素材预览图规范说明</a></li>\n",
      "        <li><a href=\"https://www.tooopen.com/info.aspx\" class=\"color2\" target=\"_blank\">特别提示：请会员尽快完善已上传的素材信息</a></li>\n",
      "        <li><a href=\"https://www.tooopen.com/info.aspx\" class=\"color2\" target=\"_blank\">素材 公社升级在即！感谢社员们的信任陪伴</a></li>\n",
      "    </ul>\n",
      "\n",
      "<class 'pyquery.pyquery.PyQuery'>\n",
      "<li class=\"iconfont yellow\"></li>\n",
      "        <li><a href=\"https://www.tooopen.com/info.aspx\" class=\"color2\" target=\"_blank\">素材预览图规范说明</a></li>\n",
      "        <li><a href=\"https://www.tooopen.com/info.aspx\" class=\"color2\" target=\"_blank\">特别提示：请会员尽快完善已上传的素材信息</a></li>\n",
      "        <li><a href=\"https://www.tooopen.com/info.aspx\" class=\"color2\" target=\"_blank\">素材 公社升级在即！感谢社员们的信任陪伴</a></li>\n",
      "    \n"
     ]
    }
   ],
   "source": [
    "html = '''\n",
    "<div class=\"scroll-box\">\n",
    "<i class=\"iconfont yellow\">&#xe626;</i>\n",
    "<div class=\"maq\">\n",
    "<div id=\"scroll-list\">\n",
    "    <ul class=\"list\">\n",
    "        <li class=\"iconfont yellow\">&#xe626;</li>\n",
    "        <li><a href=\"https://www.tooopen.com/info.aspx\" class=\"color2\"target=\"_blank\">素材预览图规范说明</a></li>\n",
    "        <li><a href=\"https://www.tooopen.com/info.aspx\" class=\"color2\"target=\"_blank\">特别提示：请会员尽快完善已上传的素材信息</a></li>\n",
    "        <li><a href=\"https://www.tooopen.com/info.aspx\" class=\"color2\"target=\"_blank\">素材 公社升级在即！感谢社员们的信任陪伴</a></li>\n",
    "    </ul>\n",
    "</div></div>\n",
    "'''\n",
    "from pyquery import PyQuery as pq\n",
    "doc = pq(html)\n",
    "items = doc('.list') \n",
    "print(type(items))\n",
    "print(items)\n",
    "lis = items.find('li')\n",
    "print(type(lis))\n",
    "print(lis)\n"
   ]
  },
  {
   "cell_type": "code",
   "execution_count": 34,
   "metadata": {
    "scrolled": true
   },
   "outputs": [
    {
     "name": "stdout",
     "output_type": "stream",
     "text": [
      "<class 'pyquery.pyquery.PyQuery'>\n",
      "<li class=\"iconfont yellow\"></li>\n",
      "        <li><a href=\"https://www.tooopen.com/info.aspx\" class=\"color2\" target=\"_blank\">素材预览图规范说明</a></li>\n",
      "        <li><a href=\"https://www.tooopen.com/info.aspx\" class=\"color2\" target=\"_blank\">特别提示：请会员尽快完善已上传的素材信息</a></li>\n",
      "        <li><a href=\"https://www.tooopen.com/info.aspx\" class=\"color2\" target=\"_blank\">素材 公社升级在即！感谢社员们的信任陪伴</a></li>\n",
      "    \n"
     ]
    }
   ],
   "source": [
    "lis = items.children()\n",
    "print(type(lis))\n",
    "print(lis)"
   ]
  },
  {
   "cell_type": "code",
   "execution_count": 46,
   "metadata": {},
   "outputs": [
    {
     "name": "stdout",
     "output_type": "stream",
     "text": [
      "<li class=\"iconfont yellow\"></li>\n",
      "        <li><a hah=\"https://www.tooopen.com/info.aspx\" class=\"color2\" target=\"_blank\">素材预览图规范说明</a></li>\n",
      "        <li><a href=\"https://www.tooopen.com/info.aspx\" class=\"color2\" target=\"_blank\">特别提示：请会员尽快完善已上传的素材信息</a></li>\n",
      "        <li><a href=\"https://www.tooopen.com/info.aspx\" class=\"color2\" target=\"_blank\">素材 公社升级在即！感谢社员们的信任陪伴</a></li>\n",
      "    \n"
     ]
    }
   ],
   "source": [
    "html = '''\n",
    "<div id=\"scroll-list\">\n",
    "    <ul class=\"list\">\n",
    "        <li class=\"iconfont yellow\">&#xe626;</li>\n",
    "        <li><a hah=\"https://www.tooopen.com/info.aspx\" class=\"color2\"target=\"_blank\">素材预览图规范说明</a></li>\n",
    "        <li><a href=\"https://www.tooopen.com/info.aspx\" class=\"color2\"target=\"_blank\">特别提示：请会员尽快完善已上传的素材信息</a></li>\n",
    "        <li><a href=\"https://www.tooopen.com/info.aspx\" class=\"color2\"target=\"_blank\">素材 公社升级在即！感谢社员们的信任陪伴</a></li>\n",
    "    </ul>\n",
    "</div></div> \n",
    "\n",
    "'''\n",
    "from pyquery import PyQuery as pq\n",
    "doc = pq(html)\n",
    "items = doc('.list')\n",
    "lis = items.children('li')\n",
    "print(lis)"
   ]
  },
  {
   "cell_type": "markdown",
   "metadata": {},
   "source": [
    "#### 父元素\n",
    "- .parent（返回一个父节点）\n",
    "- .parents(祖先节点，只要外部都返回)"
   ]
  },
  {
   "cell_type": "code",
   "execution_count": 50,
   "metadata": {},
   "outputs": [
    {
     "name": "stdout",
     "output_type": "stream",
     "text": [
      "<class 'pyquery.pyquery.PyQuery'>\n",
      "<div id=\"scroll-list\">\n",
      "    <ul class=\"list\">\n",
      "        <li class=\"iconfont yellow\"></li>\n",
      "        <li><a hah=\"https://www.tooopen.com/info.aspx\" class=\"color2\" target=\"_blank\">素材预览图规范说明</a></li>\n",
      "        <li><a href=\"https://www.tooopen.com/info.aspx\" class=\"color2\" target=\"_blank\">特别提示：请会员尽快完善已上传的素材信息</a></li>\n",
      "        <li><a href=\"https://www.tooopen.com/info.aspx\" class=\"color2\" target=\"_blank\">素材 公社升级在即！感谢社员们的信任陪伴</a></li>\n",
      "    </ul>\n",
      "</div> \n",
      "\n",
      "\n"
     ]
    }
   ],
   "source": [
    "html = '''\n",
    "<div id=\"scroll-list\">\n",
    "    <ul class=\"list\">\n",
    "        <li class=\"iconfont yellow\">&#xe626;</li>\n",
    "        <li><a hah=\"https://www.tooopen.com/info.aspx\" class=\"color2\"target=\"_blank\">素材预览图规范说明</a></li>\n",
    "        <li><a href=\"https://www.tooopen.com/info.aspx\" class=\"color2\"target=\"_blank\">特别提示：请会员尽快完善已上传的素材信息</a></li>\n",
    "        <li><a href=\"https://www.tooopen.com/info.aspx\" class=\"color2\"target=\"_blank\">素材 公社升级在即！感谢社员们的信任陪伴</a></li>\n",
    "    </ul>\n",
    "</div></div> \n",
    "\n",
    "'''\n",
    "from pyquery import PyQuery as pq\n",
    "doc = pq(html)\n",
    "items = doc('.list')\n",
    "container = items.parent()\n",
    "print(type(container))\n",
    "print(container)"
   ]
  },
  {
   "cell_type": "markdown",
   "metadata": {},
   "source": [
    "#### 兄弟节点\n",
    "- .siblings\n"
   ]
  },
  {
   "cell_type": "code",
   "execution_count": 66,
   "metadata": {},
   "outputs": [
    {
     "name": "stdout",
     "output_type": "stream",
     "text": [
      "<a id=\"btnsearch\" class=\"search-but iconfont\" href=\"javascript:;\"></a>    \n",
      "        \n",
      "-----------------以下是兄弟节点呀--------------------------------\n",
      "<input id=\"skey\" type=\"text\" placeholder=\"&#x7D20;&#x6750;&#x5173;&#x952E;&#x8BCD; &#x6216; &#x7F16;&#x53F7;\" value=\"\"/>\n",
      "        <input id=\"lala\" type=\"text\" placeholder=\"&#x7D20;&#x6750;&#x5173;&#x952E;&#x8BCD; &#x6216; &#x7F16;&#x53F7;\" value=\"\"/>\n",
      "    \n"
     ]
    }
   ],
   "source": [
    "html = '''\n",
    "<div class=\"search-box\">\n",
    "    \n",
    "    <div class=\"search-main\">\n",
    "        <input id=\"skey\" type=\"text\" placeholder=\"素材关键词 或 编号\" value=\"\"/>\n",
    "        <a id=\"btnsearch\" class=\"search-but iconfont\" href=\"javascript:;\">&#xe603;</a>    \n",
    "        <input id=\"lala\" type=\"text\" placeholder=\"素材关键词 或 编号\" value=\"\"/>\n",
    "    </div>\n",
    "    <div style=\"display:none;\" id=\"search-more\" class=\"search-more\">\n",
    "    </div>\n",
    "</div>\n",
    "\n",
    "'''\n",
    "from pyquery import PyQuery as pq\n",
    "doc = pq(html)\n",
    "li = doc('.search-main .search-but.iconfont' )    #\"空格\"的意思是选择它里面的，“.不加空格”的意思是并列\n",
    "print(li)\n",
    "print('-----------------以下是兄弟节点呀--------------------------------')\n",
    "print(li.siblings())"
   ]
  },
  {
   "cell_type": "code",
   "execution_count": 67,
   "metadata": {},
   "outputs": [
    {
     "name": "stdout",
     "output_type": "stream",
     "text": [
      "<input id=\"lala\" type=\"text\" placeholder=\"&#x7D20;&#x6750;&#x5173;&#x952E;&#x8BCD; &#x6216; &#x7F16;&#x53F7;\" value=\"\"/>\n",
      "    \n"
     ]
    }
   ],
   "source": [
    "print(li.siblings('#lala'))"
   ]
  },
  {
   "cell_type": "markdown",
   "metadata": {},
   "source": [
    "### 遍历\n",
    "- .items,然后用for循环遍历"
   ]
  },
  {
   "cell_type": "code",
   "execution_count": 68,
   "metadata": {},
   "outputs": [
    {
     "name": "stdout",
     "output_type": "stream",
     "text": [
      "<a id=\"btnsearch\" class=\"search-but iconfont\" href=\"javascript:;\"></a>    \n",
      "        \n"
     ]
    }
   ],
   "source": [
    "#查找单个元素\n",
    "html = '''\n",
    "<div class=\"search-box\">\n",
    "    \n",
    "    <div class=\"search-main\">\n",
    "        <input id=\"skey\" type=\"text\" placeholder=\"素材关键词 或 编号\" value=\"\"/>\n",
    "        <a id=\"btnsearch\" class=\"search-but iconfont\" href=\"javascript:;\">&#xe603;</a>    \n",
    "        <input id=\"lala\" type=\"text\" placeholder=\"素材关键词 或 编号\" value=\"\"/>\n",
    "    </div>\n",
    "    <div style=\"display:none;\" id=\"search-more\" class=\"search-more\">\n",
    "    </div>\n",
    "</div>\n",
    "\n",
    "'''\n",
    "from pyquery import PyQuery as pq\n",
    "doc = pq(html)\n",
    "print(doc('a'))"
   ]
  },
  {
   "cell_type": "code",
   "execution_count": 69,
   "metadata": {},
   "outputs": [
    {
     "name": "stdout",
     "output_type": "stream",
     "text": [
      "<class 'generator'>\n",
      "<input id=\"skey\" type=\"text\" placeholder=\"&#x7D20;&#x6750;&#x5173;&#x952E;&#x8BCD; &#x6216; &#x7F16;&#x53F7;\" value=\"\"/>\n",
      "        \n",
      "<input id=\"lala\" type=\"text\" placeholder=\"&#x7D20;&#x6750;&#x5173;&#x952E;&#x8BCD; &#x6216; &#x7F16;&#x53F7;\" value=\"\"/>\n",
      "    \n"
     ]
    }
   ],
   "source": [
    "#遍历案例\n",
    "html = '''\n",
    "<div class=\"search-box\">\n",
    "    \n",
    "    <div class=\"search-main\">\n",
    "        <input id=\"skey\" type=\"text\" placeholder=\"素材关键词 或 编号\" value=\"\"/>\n",
    "        <a id=\"btnsearch\" class=\"search-but iconfont\" href=\"javascript:;\">&#xe603;</a>    \n",
    "        <input id=\"lala\" type=\"text\" placeholder=\"素材关键词 或 编号\" value=\"\"/>\n",
    "    </div>\n",
    "    <div style=\"display:none;\" id=\"search-more\" class=\"search-more\">\n",
    "    </div>\n",
    "</div>\n",
    "\n",
    "'''\n",
    "from pyquery import PyQuery as pq\n",
    "doc = pq(html)\n",
    "lis = doc('input').items()\n",
    "print(type(lis))\n",
    "for li in lis:\n",
    "    print(li)\n"
   ]
  },
  {
   "cell_type": "markdown",
   "metadata": {},
   "source": [
    " ### 获取信息\n",
    " #### 获取属性\n",
    " - .attr"
   ]
  },
  {
   "cell_type": "code",
   "execution_count": 75,
   "metadata": {},
   "outputs": [
    {
     "name": "stdout",
     "output_type": "stream",
     "text": [
      "<input id=\"skey\" type=\"text\" placeholder=\"&#x7D20;&#x6750;&#x5173;&#x952E;&#x8BCD; &#x6216; &#x7F16;&#x53F7;\" value=\"\"/>\n",
      "        <input id=\"lala\" type=\"text\" placeholder=\"&#x7D20;&#x6750;&#x5173;&#x952E;&#x8BCD; &#x6216; &#x7F16;&#x53F7;\" value=\"\"/>\n",
      "    \n",
      "skey\n",
      "skey\n"
     ]
    }
   ],
   "source": [
    "html = '''\n",
    "<div class=\"search-box\">\n",
    "    \n",
    "    <div class=\"search-main\">\n",
    "        <input id=\"skey\" type=\"text\" placeholder=\"素材关键词 或 编号\" value=\"\"/>\n",
    "        <a id=\"btnsearch\" class=\"search-but iconfont\" href=\"javascript:;\">&#xe603;</a>    \n",
    "        <input id=\"lala\" type=\"text\" placeholder=\"素材关键词 或 编号\" value=\"\"/>\n",
    "    </div>\n",
    "    <div style=\"display:none;\" id=\"search-more\" class=\"search-more\">\n",
    "    </div>\n",
    "</div>\n",
    "\n",
    "'''\n",
    "from pyquery import PyQuery as pq\n",
    "doc = pq(html)\n",
    "a = doc('input ')\n",
    "print(a)\n",
    "print(a.attr('id'))\n",
    "print(a.attr.id)"
   ]
  },
  {
   "cell_type": "markdown",
   "metadata": {},
   "source": [
    "#### 获取文本\n",
    "- .text"
   ]
  },
  {
   "cell_type": "code",
   "execution_count": 85,
   "metadata": {},
   "outputs": [
    {
     "name": "stdout",
     "output_type": "stream",
     "text": [
      "<input id=\"skey\" type=\"text\" placeholder=\"&#x7D20;&#x6750;&#x5173;&#x952E;&#x8BCD; &#x6216; &#x7F16;&#x53F7;\" value=\"\"/>\n",
      "        \n",
      "text: \n"
     ]
    }
   ],
   "source": [
    "html = '''\n",
    "<div class=\"search-box\">\n",
    "    \n",
    "    <div class=\"search-main\">\n",
    "        <input id=\"skey\" type=\"text\" placeholder=\"素材关键词 或 编号\" value=\"\"/>\n",
    "        <a id=\"btnsearch\" class=\"search-but iconfont\" href=\"javascript:;\">&#xe603;</a>    \n",
    "        <input id=\"lala\" type=\"text\" placeholder=\"素材关键词 或 编号\" value=\"\"/>\n",
    "    </div>\n",
    "    <div style=\"display:none;\" id=\"search-more\" class=\"search-more\">\n",
    "    </div>\n",
    "</div>\n",
    "\n",
    "'''\n",
    "from pyquery import PyQuery as pq\n",
    "doc = pq(html)\n",
    "a = doc('#skey')\n",
    "print(a)\n",
    "print('text:',a.text())"
   ]
  },
  {
   "cell_type": "markdown",
   "metadata": {},
   "source": [
    "#### 获取html\n",
    "- .html\n",
    "      \n",
    "     "
   ]
  },
  {
   "cell_type": "markdown",
   "metadata": {},
   "source": [
    "### DOM操作(对节点的操作)\n",
    "#### addClass、removeClass\n"
   ]
  },
  {
   "cell_type": "code",
   "execution_count": 95,
   "metadata": {},
   "outputs": [
    {
     "name": "stdout",
     "output_type": "stream",
     "text": [
      "<a id=\"btnsearch active\" class=\"search-but iconfont\" href=\"javascript:;\"></a>  \n",
      "        \n",
      "<a id=\"btnsearch active\" class=\"search-but\" href=\"javascript:;\"></a>  \n",
      "        \n",
      "<a id=\"btnsearch active\" class=\"search-but iconfont\" href=\"javascript:;\"></a>  \n",
      "        \n"
     ]
    }
   ],
   "source": [
    "#选中一行，将其中的内容删除再添加案例\n",
    "html = '''\n",
    "<div class=\"search-box\">\n",
    "    \n",
    "    <div class=\"search-main\">\n",
    "        <input id=\"skey\" type=\"text\" placeholder=\"素材关键词 或 编号\" value=\"\"/>\n",
    "        <a id=\"btnsearch active\" class=\"search-but iconfont\" href=\"javascript:;\">&#xe603;</a>  \n",
    "        <input id=\"lala\" type=\"text\" placeholder=\"素材关键词 或 编号\" value=\"\"/>\n",
    "    </div>\n",
    "    <div style=\"display:none;\" id=\"search-more\" class=\"search-more\">\n",
    "    </div>\n",
    "</div>\n",
    "\n",
    "'''\n",
    "from pyquery import PyQuery as pq\n",
    "doc = pq(html)\n",
    "a = doc('a')\n",
    "print(a)\n",
    "print(a.removeClass('iconfont'))\n",
    "print(a.addClass('iconfont'))"
   ]
  },
  {
   "cell_type": "markdown",
   "metadata": {},
   "source": [
    "\n",
    "#### attr、css\n",
    "- 更改属性"
   ]
  },
  {
   "cell_type": "code",
   "execution_count": 97,
   "metadata": {},
   "outputs": [
    {
     "name": "stdout",
     "output_type": "stream",
     "text": [
      "<a id=\"btnsearch active\" class=\"search-but iconfont\" href=\"javascript:;\"></a>  \n",
      "        \n",
      "<a id=\"btnsearch active\" class=\"search-but iconfont\" href=\"javascript:;\" name=\"link\"></a>  \n",
      "        \n",
      "<a id=\"btnsearch active\" class=\"search-but iconfont\" href=\"javascript:;\" name=\"link\" style=\"font-size: 14px\"></a>  \n",
      "        \n"
     ]
    }
   ],
   "source": [
    "html = '''\n",
    "<div class=\"search-box\">\n",
    "    \n",
    "    <div class=\"search-main\">\n",
    "        <input id=\"skey\" type=\"text\" placeholder=\"素材关键词 或 编号\" value=\"\"/>\n",
    "        <a id=\"btnsearch active\" class=\"search-but iconfont\" href=\"javascript:;\">&#xe603;</a>  \n",
    "        <input id=\"lala\" type=\"text\" placeholder=\"素材关键词 或 编号\" value=\"\"/>\n",
    "    </div>\n",
    "    <div style=\"display:none;\" id=\"search-more\" class=\"search-more\">\n",
    "    </div>\n",
    "</div>\n",
    "\n",
    "'''\n",
    "from pyquery import PyQuery as pq\n",
    "doc = pq(html)\n",
    "a = doc('a')\n",
    "print(a)\n",
    "print(a.attr('name','link'))   #添加一个name属性\n",
    "print(a.css('font-size','14px'))   #添加一个style属性"
   ]
  },
  {
   "cell_type": "markdown",
   "metadata": {},
   "source": [
    "#### remove"
   ]
  },
  {
   "cell_type": "code",
   "execution_count": 118,
   "metadata": {},
   "outputs": [
    {
     "name": "stdout",
     "output_type": "stream",
     "text": [
      "Hello，Word！\n"
     ]
    }
   ],
   "source": [
    "html = '''\n",
    "<div class=\"search-box\">\n",
    "    Hello，Word！\n",
    "    <p>This is a paragraph.</p>\n",
    "</div>\n",
    "'''\n",
    "\n",
    "from pyquery import PyQuery as pq\n",
    "doc = pq(html)\n",
    "a = doc('.search-box')    \n",
    "a.find('p').remove()     \n",
    "print(a.text())          "
   ]
  },
  {
   "cell_type": "markdown",
   "metadata": {},
   "source": [
    "#### 其他DOM方法\n",
    "- http://pyquery.readthedocs.io/en/latest/api.html"
   ]
  },
  {
   "cell_type": "markdown",
   "metadata": {},
   "source": [
    "### 伪类选择器\n",
    "\n",
    "    html='''\n",
    "\n",
    "    '''\n",
    "    from pyquery import PyQuery as pq\n",
    "    doc = pq(html)\n",
    "    li = doc('li:first-child')     #获取li标签里的第一个\n",
    "    print(li)\n",
    "    li = doc('li:last-child')      #获取li标签里的最后一个\n",
    "    print(li)\n",
    "    li = doc('li:nth-child(2)')    #获取li标签里的第n个\n",
    "    print(li)\n",
    "    li = doc('li:nth-child(2n)')    #获取li标签里第偶数个\n",
    "    print(li)\n",
    "    li = doc('li:gt(2)')           #获取li标签里需要比2大的\n",
    "    print(li)\n",
    "    li = doc('li:contains(second)')  #获取li标签里包含second的\n",
    "    print(li)\n"
   ]
  },
  {
   "cell_type": "markdown",
   "metadata": {},
   "source": [
    "##### 更多的css选择器\n",
    "- 可以查看：http://www.w3shool.com.cn/css/index.asp\n",
    "- 官方文档： http://pyquery.readthedocs.io"
   ]
  },
  {
   "cell_type": "code",
   "execution_count": null,
   "metadata": {},
   "outputs": [],
   "source": []
  },
  {
   "cell_type": "code",
   "execution_count": null,
   "metadata": {},
   "outputs": [],
   "source": []
  },
  {
   "cell_type": "code",
   "execution_count": null,
   "metadata": {},
   "outputs": [],
   "source": []
  },
  {
   "cell_type": "code",
   "execution_count": null,
   "metadata": {},
   "outputs": [],
   "source": []
  },
  {
   "cell_type": "code",
   "execution_count": null,
   "metadata": {},
   "outputs": [],
   "source": []
  },
  {
   "cell_type": "code",
   "execution_count": null,
   "metadata": {},
   "outputs": [],
   "source": []
  },
  {
   "cell_type": "code",
   "execution_count": null,
   "metadata": {},
   "outputs": [],
   "source": []
  },
  {
   "cell_type": "code",
   "execution_count": null,
   "metadata": {},
   "outputs": [],
   "source": []
  },
  {
   "cell_type": "code",
   "execution_count": null,
   "metadata": {},
   "outputs": [],
   "source": []
  },
  {
   "cell_type": "code",
   "execution_count": null,
   "metadata": {},
   "outputs": [],
   "source": []
  },
  {
   "cell_type": "code",
   "execution_count": null,
   "metadata": {},
   "outputs": [],
   "source": []
  }
 ],
 "metadata": {
  "kernelspec": {
   "display_name": "Python 3",
   "language": "python",
   "name": "python3"
  },
  "language_info": {
   "codemirror_mode": {
    "name": "ipython",
    "version": 3
   },
   "file_extension": ".py",
   "mimetype": "text/x-python",
   "name": "python",
   "nbconvert_exporter": "python",
   "pygments_lexer": "ipython3",
   "version": "3.7.0"
  }
 },
 "nbformat": 4,
 "nbformat_minor": 2
}
